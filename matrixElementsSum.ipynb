{
 "cells": [
  {
   "cell_type": "markdown",
   "metadata": {},
   "source": [
    "## CodeSignal\n",
    "### matrixElementsSum"
   ]
  },
  {
   "cell_type": "markdown",
   "metadata": {},
   "source": [
    "Solving this question took me 3 minutes, I'm not sure if it's worth uploading, but here you go."
   ]
  },
  {
   "cell_type": "markdown",
   "metadata": {},
   "source": [
    "### Question:"
   ]
  },
  {
   "cell_type": "markdown",
   "metadata": {},
   "source": [
    "After becoming famous, the CodeBots decided to move into a new building together. Each of the rooms has a different cost, and some of them are free, but there's a rumour that all the free rooms are haunted! Since the CodeBots are quite superstitious, they refuse to stay in any of the free rooms, or any of the rooms below any of the free rooms.\n",
    "\n",
    "Given matrix, a rectangular matrix of integers, where each value represents the cost of the room, your task is to return the total sum of all rooms that are suitable for the CodeBots (ie: add up all the values that don't appear below a 0).\n",
    "\n",
    "Example\n",
    "\n",
    "For\n",
    "\n",
    "matrix = [[0, 1, 1, 2], \n",
    "          [0, 5, 0, 0], \n",
    "          [2, 0, 3, 3]]\n",
    "the output should be\n",
    "matrixElementsSum(matrix) = 9.\n",
    "\n",
    "example 1\n",
    "\n",
    "There are several haunted rooms, so we'll disregard them as well as any rooms beneath them. Thus, the answer is 1 + 5 + 1 + 2 = 9.\n",
    "\n",
    "For\n",
    "\n",
    "matrix = [[1, 1, 1, 0], \n",
    "          [0, 5, 0, 1], \n",
    "          [2, 1, 3, 10]]\n",
    "the output should be\n",
    "matrixElementsSum(matrix) = 9.\n",
    "\n",
    "example 2\n",
    "\n",
    "Note that the free room in the final column makes the full column unsuitable for bots (not just the room directly beneath it). Thus, the answer is 1 + 1 + 1 + 5 + 1 = 9.\n",
    "\n",
    "Input/Output\n",
    "\n",
    "[execution time limit] 4 seconds (py3)\n",
    "\n",
    "[input] array.array.integer matrix\n",
    "\n",
    "A 2-dimensional array of integers representing the cost of each room in the building. A value of 0 indicates that the room is haunted.\n",
    "\n",
    "Guaranteed constraints:\n",
    "1 ≤ matrix.length ≤ 5,\n",
    "1 ≤ matrix[i].length ≤ 5,\n",
    "0 ≤ matrix[i][j] ≤ 10.\n",
    "\n",
    "[output] integer\n",
    "\n",
    "The total price of all the rooms that are suitable for the CodeBots to live in."
   ]
  },
  {
   "cell_type": "markdown",
   "metadata": {},
   "source": [
    "### Answer:"
   ]
  },
  {
   "cell_type": "code",
   "execution_count": 1,
   "metadata": {},
   "outputs": [],
   "source": [
    "def matrixElementsSum(matrix):\n",
    "    haunted = set([])\n",
    "    total_cost = 0\n",
    "    for floors in matrix:\n",
    "        for room_num, room_cost in enumerate(floors):\n",
    "            if room_num in haunted:\n",
    "                continue \n",
    "            elif room_cost==0:\n",
    "                haunted.add(room_num)\n",
    "            else:\n",
    "                total_cost+=room_cost\n",
    "    return total_cost"
   ]
  },
  {
   "cell_type": "markdown",
   "metadata": {},
   "source": [
    "Idea is to keep track of haunted rooms. Whenever I find a zero, I add it to set, and don't bother checking the next rows."
   ]
  },
  {
   "cell_type": "markdown",
   "metadata": {},
   "source": [
    "### Tests:"
   ]
  },
  {
   "cell_type": "code",
   "execution_count": null,
   "metadata": {},
   "outputs": [],
   "source": [
    "matrix1=[[0,1,1,2], \n",
    "         [0,5,0,0], \n",
    "         [2,0,3,3]]\n",
    "out1=9\n",
    "matrix2=[[4,0,1], \n",
    "         [10,7,0], \n",
    "         [0,0,0], \n",
    "         [9,1,2]]\n",
    "out2=15\n",
    "matrix3=[[1], \n",
    "         [5], \n",
    "         [0], \n",
    "         [2]]\n",
    "out3 = 6"
   ]
  },
  {
   "cell_type": "code",
   "execution_count": null,
   "metadata": {},
   "outputs": [],
   "source": [
    "import unittest\n",
    "\n",
    "class TestSolution(unittest.TestCase):\n",
    "    def test_answers(self):\n",
    "        self.assertEqual(almostIncreasingSequence(sequence1), out1)\n",
    "        self.assertEqual(almostIncreasingSequence(sequence2), out2)\n",
    "        self.assertEqual(almostIncreasingSequence(sequence3), out3)\n",
    "\n",
    "if __name__ == '__main__':\n",
    "    unittest.main(argv=['first-arg-is-ignored'], exit=False)"
   ]
  },
  {
   "cell_type": "markdown",
   "metadata": {},
   "source": [
    "Passes all test cases!"
   ]
  }
 ],
 "metadata": {
  "kernelspec": {
   "display_name": "Python 3",
   "language": "python",
   "name": "python3"
  },
  "language_info": {
   "codemirror_mode": {
    "name": "ipython",
    "version": 3
   },
   "file_extension": ".py",
   "mimetype": "text/x-python",
   "name": "python",
   "nbconvert_exporter": "python",
   "pygments_lexer": "ipython3",
   "version": "3.6.5"
  }
 },
 "nbformat": 4,
 "nbformat_minor": 2
}

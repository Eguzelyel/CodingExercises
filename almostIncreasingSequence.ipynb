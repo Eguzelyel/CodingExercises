{
 "cells": [
  {
   "cell_type": "markdown",
   "metadata": {},
   "source": [
    "## CodeSignal \n",
    "\n",
    "### almostIncreasingSequence"
   ]
  },
  {
   "cell_type": "markdown",
   "metadata": {},
   "source": [
    "Given a sequence of integers as an array, determine whether it is possible to obtain a strictly increasing sequence by removing no more than one element from the array.\n",
    "\n",
    "Note: sequence a0, a1, ..., an is considered to be a strictly increasing if a0 < a1 < ... < an. Sequence containing only one element is also considered to be strictly increasing.\n",
    "\n",
    "Example\n",
    "\n",
    "For sequence = [1, 3, 2, 1], the output should be\n",
    "almostIncreasingSequence(sequence) = false.\n",
    "\n",
    "There is no one element in this array that can be removed in order to get a strictly increasing sequence.\n",
    "\n",
    "For sequence = [1, 3, 2], the output should be\n",
    "almostIncreasingSequence(sequence) = true.\n",
    "\n",
    "You can remove 3 from the array to get the strictly increasing sequence [1, 2]. Alternately, you can remove 2 to get the strictly increasing sequence [1, 3].\n",
    "\n",
    "Input/Output\n",
    "\n",
    "[execution time limit] 4 seconds (py3)\n",
    "\n",
    "[input] array.integer sequence\n",
    "\n",
    "Guaranteed constraints:\n",
    "2 ≤ sequence.length ≤ 105,\n",
    "-105 ≤ sequence[i] ≤ 105.\n",
    "\n",
    "[output] boolean\n",
    "\n",
    "Return true if it is possible to remove one element from the array in order to get a strictly increasing sequence, otherwise return false"
   ]
  },
  {
   "cell_type": "code",
   "execution_count": null,
   "metadata": {},
   "outputs": [],
   "source": [
    "# Brainstroming:\n",
    "# s l m -> Err\n",
    "# s m l -> Wanted\n",
    "# l m \n",
    "# 132 ->2\n",
    "\n",
    "# 1324 ->3\n",
    "# 1311 ->2,1\n",
    "\n",
    "# 5346"
   ]
  },
  {
   "cell_type": "markdown",
   "metadata": {},
   "source": [
    "### My Solution:"
   ]
  },
  {
   "cell_type": "markdown",
   "metadata": {},
   "source": [
    "The idea is to keep track of the second max value, so that if I detect an anomaly (which is non-increasing element), I can revert and compare it to the latest max (not the current max). If the condition meets there (which is current value 'sq' has to be strictly bigger than previous max 'second_max')."
   ]
  },
  {
   "cell_type": "code",
   "execution_count": 1,
   "metadata": {},
   "outputs": [],
   "source": [
    "def almostIncreasingSequence(sequence):\n",
    "    if len(sequence)==0 or len(sequence)==1:\n",
    "        return True\n",
    "    \n",
    "    cur_max=sequence[0]\n",
    "    second_max=-10**5\n",
    "    anomalies=0\n",
    "    \n",
    "    \n",
    "    for sq in sequence[1:]:\n",
    "        if sq <= cur_max:\n",
    "            if sq >second_max:\n",
    "                cur_max = sq\n",
    "            anomalies+=1\n",
    "        else:\n",
    "            second_max=cur_max\n",
    "            cur_max=sq\n",
    "        \n",
    "        if anomalies>1:\n",
    "            return False\n",
    "    return True"
   ]
  },
  {
   "cell_type": "markdown",
   "metadata": {},
   "source": [
    "### Tests:"
   ]
  },
  {
   "cell_type": "code",
   "execution_count": 2,
   "metadata": {},
   "outputs": [],
   "source": [
    "sequence1, ans1 = [1, 3, 2, 1], False\n",
    "sequence2, ans2 = [1, 2, 1, 2], False\n",
    "sequence3, ans3 = [10, 1, 2, 3, 4, 5], True\n",
    "sequence4, ans4 = [123, -17, -5, 1, 2, 3, 12, 43, 45], True"
   ]
  },
  {
   "cell_type": "code",
   "execution_count": 17,
   "metadata": {},
   "outputs": [
    {
     "name": "stderr",
     "output_type": "stream",
     "text": [
      "...\n",
      "----------------------------------------------------------------------\n",
      "Ran 3 tests in 0.021s\n",
      "\n",
      "OK\n"
     ]
    }
   ],
   "source": [
    "import unittest\n",
    "\n",
    "class TestSolution(unittest.TestCase):\n",
    "    def test_answers(self):\n",
    "        self.assertEqual(almostIncreasingSequence(sequence1), ans1)\n",
    "        self.assertEqual(almostIncreasingSequence(sequence2), ans2)\n",
    "        self.assertEqual(almostIncreasingSequence(sequence3), ans3)\n",
    "        self.assertEqual(almostIncreasingSequence(sequence4), ans4)\n",
    "\n",
    "if __name__ == '__main__':\n",
    "    unittest.main(argv=['first-arg-is-ignored'], exit=False)"
   ]
  },
  {
   "cell_type": "markdown",
   "metadata": {},
   "source": [
    "Passes 39/39 cases! "
   ]
  }
 ],
 "metadata": {
  "kernelspec": {
   "display_name": "Python 3",
   "language": "python",
   "name": "python3"
  },
  "language_info": {
   "codemirror_mode": {
    "name": "ipython",
    "version": 3
   },
   "file_extension": ".py",
   "mimetype": "text/x-python",
   "name": "python",
   "nbconvert_exporter": "python",
   "pygments_lexer": "ipython3",
   "version": "3.6.5"
  }
 },
 "nbformat": 4,
 "nbformat_minor": 2
}

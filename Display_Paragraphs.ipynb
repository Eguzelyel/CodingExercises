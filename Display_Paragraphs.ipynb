{
 "cells": [
  {
   "cell_type": "markdown",
   "metadata": {},
   "source": [
    "## CodeSignal Exercise "
   ]
  },
  {
   "cell_type": "markdown",
   "metadata": {},
   "source": [
    "### Question Definition:"
   ]
  },
  {
   "cell_type": "markdown",
   "metadata": {},
   "source": [
    "As far as I remember from the challenge, question goes:\n",
    "\n",
    "You are given 3 inputs\n",
    "- Paragraphs as arrays that contains words i.e `[[word1, word2],[word3,word4,word5],[word6]]`\n",
    "- Indentation direction for each paragraph (left/right just) i.e `[RIGHT, LEFT, LEFT]`\n",
    "- Width of the output area\n",
    "\n",
    "Given these inputs, give me back pretty print like:\n",
    "\n",
    "```\n",
    "[\"*****************\",\n",
    " \"*    word1 word2*\",\n",
    " \"*word3 word4    *\",\n",
    " \"*word5          *\",\n",
    " \"*word6          *\",\n",
    " \"*****************\"]\n",
    "```"
   ]
  },
  {
   "cell_type": "code",
   "execution_count": 1,
   "metadata": {},
   "outputs": [],
   "source": [
    "# Given by the prompt\n",
    "def display_paragraphs(lines, direction, width):\n",
    "    return None"
   ]
  },
  {
   "cell_type": "code",
   "execution_count": 13,
   "metadata": {},
   "outputs": [
    {
     "data": {
      "text/plain": [
       "['******************',\n",
       " '*     Ihave a dog*',\n",
       " '*where isyour cat*',\n",
       " '*likey           *',\n",
       " '*****************']"
      ]
     },
     "execution_count": 13,
     "metadata": {},
     "output_type": "execute_result"
    }
   ],
   "source": [
    "# Example test case\n",
    "lines = [[\"Ihave\", \"a\", \"dog\"],[\"where\",\"isyour\", \"cat\", \"monkey\"],[\"likey\"]]\n",
    "directions= [\"RIGHT\", \"LEFT\", \"LEFT\"]\n",
    "width = 16\n",
    "\n",
    "# Expected output\n",
    "out = [\"******************\",\n",
    "       \"*     Ihave a dog*\",\n",
    "       \"*where isyour cat*\",\n",
    "       \"*likey           *\",\n",
    "       \"*****************\"]\n",
    "out"
   ]
  },
  {
   "cell_type": "markdown",
   "metadata": {},
   "source": [
    "### Solution Step by Step:"
   ]
  },
  {
   "cell_type": "markdown",
   "metadata": {},
   "source": [
    "__Step 1:__ Separating the line if the total word length excesses the width.\n",
    "- Don't forget, you can only have so many words that fits into given width for one paragraph.\n",
    "- Go to the next line if they don't fit"
   ]
  },
  {
   "cell_type": "code",
   "execution_count": 27,
   "metadata": {},
   "outputs": [
    {
     "name": "stdout",
     "output_type": "stream",
     "text": [
      "['where', 'isyour', 'cat']\n",
      "['monkey']\n"
     ]
    }
   ],
   "source": [
    "line = lines[1]\n",
    "count=0\n",
    "while count<len(line):\n",
    "    tot = 0\n",
    "    cur_words=[]\n",
    "\n",
    "    for word in line[count:]:\n",
    "        tot+=len(word)\n",
    "        if tot>width:\n",
    "            print(cur_words)\n",
    "            break\n",
    "        else:\n",
    "            cur_words.append(word) # Add the overflowing lines\n",
    "            count+=1\n",
    "print(cur_words) # Add surplass line"
   ]
  },
  {
   "cell_type": "markdown",
   "metadata": {},
   "source": [
    "__Step 2:__ Manipulate these print statements to pretty print\n",
    "- Words has to start and end with a \" * \"\n",
    "- Lines has to be either left or right just."
   ]
  },
  {
   "cell_type": "code",
   "execution_count": 35,
   "metadata": {},
   "outputs": [
    {
     "name": "stdout",
     "output_type": "stream",
     "text": [
      "monkey**********\n",
      "*monkey          *\n"
     ]
    }
   ],
   "source": [
    "joined = \" \".join(cur_words)\n",
    "print(joined.ljust(16, \"*\"))\n",
    "print(\"*\" + joined.ljust(16, \" \") + \"*\")"
   ]
  },
  {
   "cell_type": "code",
   "execution_count": 36,
   "metadata": {},
   "outputs": [
    {
     "name": "stdout",
     "output_type": "stream",
     "text": [
      "*where isyour cat*\n",
      "*monkey          *\n"
     ]
    }
   ],
   "source": [
    "line = lines[1]\n",
    "count=0\n",
    "while count<len(line):\n",
    "    tot = 0\n",
    "    cur_words=[]\n",
    "\n",
    "    for word in line[count:]:\n",
    "        tot+=len(word)\n",
    "        if tot>width:\n",
    "            joined = \" \".join(cur_words)\n",
    "            print(\"*\" + joined.ljust(16, \" \") + \"*\") # Add the overflowing lines\n",
    "            break\n",
    "        else:\n",
    "            cur_words.append(word) \n",
    "            count+=1\n",
    "joined = \" \".join(cur_words)\n",
    "print(\"*\" + joined.ljust(16, \" \") + \"*\") # Print the last line"
   ]
  },
  {
   "cell_type": "markdown",
   "metadata": {},
   "source": [
    "__Step 3:__ Iterate over each paragraph\n",
    "- Apply the same pretty print to each paragraph"
   ]
  },
  {
   "cell_type": "code",
   "execution_count": 41,
   "metadata": {},
   "outputs": [
    {
     "name": "stdout",
     "output_type": "stream",
     "text": [
      "*Ihave a dog     *\n",
      "*where isyour cat*\n",
      "*monkey          *\n",
      "*likey           *\n"
     ]
    }
   ],
   "source": [
    "for line in lines:\n",
    "    count=0\n",
    "    while count<len(line):\n",
    "        tot = 0\n",
    "        cur_words=[]\n",
    "\n",
    "        for word in line[count:]:\n",
    "            tot+=len(word)\n",
    "            if tot>width:\n",
    "                joined = \" \".join(cur_words)\n",
    "                print(\"*\" + joined.ljust(16, \" \") + \"*\") # Add the overflowing lines\n",
    "                break\n",
    "            else:\n",
    "                cur_words.append(word) \n",
    "                count+=1\n",
    "    joined = \" \".join(cur_words)\n",
    "    print(\"*\" + joined.ljust(16, \" \") + \"*\") # Print the last line"
   ]
  },
  {
   "cell_type": "markdown",
   "metadata": {},
   "source": [
    "__Step 4:__ Adjust the directions according to the given right or left alignment."
   ]
  },
  {
   "cell_type": "code",
   "execution_count": 42,
   "metadata": {},
   "outputs": [
    {
     "name": "stdout",
     "output_type": "stream",
     "text": [
      "*     Ihave a dog*\n",
      "*where isyour cat*\n",
      "*monkey          *\n",
      "*likey           *\n"
     ]
    }
   ],
   "source": [
    "for idx, line in enumerate(lines):\n",
    "    count=0\n",
    "    while count<len(line):\n",
    "        tot = 0\n",
    "        cur_words=[]\n",
    "\n",
    "        for word in line[count:]:\n",
    "            tot+=len(word)\n",
    "            if tot>width:\n",
    "                joined = \" \".join(cur_words)\n",
    "                if directions[idx]==\"LEFT\":\n",
    "                    print(\"*\" + joined.ljust(16, \" \") + \"*\") # Left adjusted\n",
    "                else:\n",
    "                    print(\"*\" + joined.rjust(16, \" \") + \"*\")\n",
    "                break\n",
    "            else:\n",
    "                cur_words.append(word) \n",
    "                count+=1\n",
    "    joined = \" \".join(cur_words)\n",
    "    if directions[idx]==\"LEFT\":\n",
    "        print(\"*\" + joined.ljust(16, \" \") + \"*\") # Print the last line\n",
    "    else:\n",
    "        print(\"*\" + joined.rjust(16, \" \") + \"*\")"
   ]
  },
  {
   "cell_type": "markdown",
   "metadata": {},
   "source": [
    "__Step 5:__ Construct the pretty print defined by the question\n",
    "- Insert additional requirements by the question.\n",
    "- Add stars in the beginning and the end."
   ]
  },
  {
   "cell_type": "code",
   "execution_count": 44,
   "metadata": {},
   "outputs": [
    {
     "data": {
      "text/plain": [
       "['******************',\n",
       " '*     Ihave a dog*',\n",
       " '*where isyour cat*',\n",
       " '*monkey          *',\n",
       " '*likey           *',\n",
       " ['******************']]"
      ]
     },
     "execution_count": 44,
     "metadata": {},
     "output_type": "execute_result"
    }
   ],
   "source": [
    "answer = [\"*\"*(width+2)]\n",
    "for idx, line in enumerate(lines):\n",
    "    count=0\n",
    "    while count<len(line):\n",
    "        tot = 0\n",
    "        cur_words=[]\n",
    "\n",
    "        for word in line[count:]:\n",
    "            tot+=len(word)\n",
    "            if tot>width:\n",
    "                joined = \" \".join(cur_words)\n",
    "                if directions[idx]==\"LEFT\":\n",
    "                    answer.append(\"*\" + joined.ljust(16, \" \") + \"*\") # Left adjusted\n",
    "                else:\n",
    "                    answer.append(\"*\" + joined.rjust(16, \" \") + \"*\")\n",
    "                break\n",
    "            else:\n",
    "                cur_words.append(word) \n",
    "                count+=1\n",
    "    joined = \" \".join(cur_words)\n",
    "    if directions[idx]==\"LEFT\":\n",
    "        answer.append(\"*\" + joined.ljust(16, \" \") + \"*\") # Print the last line\n",
    "    else:\n",
    "        answer.append(\"*\" + joined.rjust(16, \" \") + \"*\")\n",
    "answer.append([\"*\"*(width+2)])\n",
    "\n",
    "answer"
   ]
  },
  {
   "cell_type": "markdown",
   "metadata": {},
   "source": [
    "__Step 6:__ Create the function combining everything\n",
    "- Change static arguments"
   ]
  },
  {
   "cell_type": "code",
   "execution_count": 54,
   "metadata": {},
   "outputs": [],
   "source": [
    "def display_paragraphs(lines, direction, width):\n",
    "    answer = [\"*\"*(width+2)]\n",
    "    for idx, line in enumerate(lines):\n",
    "        count=0\n",
    "        while count<len(line):\n",
    "            tot = 0\n",
    "            cur_words=[]\n",
    "\n",
    "            for word in line[count:]:\n",
    "                tot+=len(word)\n",
    "                if tot>=width: # Equality is important\n",
    "                    joined = \" \".join(cur_words)\n",
    "                    if directions[idx]==\"LEFT\":\n",
    "                        answer.append(\"*\" + joined.ljust(width, \" \") + \"*\") # Left adjusted\n",
    "                    else:\n",
    "                        answer.append(\"*\" + joined.rjust(width, \" \") + \"*\")\n",
    "                    break\n",
    "                else:\n",
    "                    cur_words.append(word) \n",
    "                    count+=1\n",
    "        joined = \" \".join(cur_words)\n",
    "        if directions[idx]==\"LEFT\":\n",
    "            answer.append(\"*\" + joined.ljust(width, \" \") + \"*\") # Print the last line\n",
    "        else:\n",
    "            answer.append(\"*\" + joined.rjust(width, \" \") + \"*\")\n",
    "    answer.append([\"*\"*(width+2)])\n",
    "\n",
    "    return answer"
   ]
  },
  {
   "cell_type": "markdown",
   "metadata": {},
   "source": [
    "### Tests:"
   ]
  },
  {
   "cell_type": "code",
   "execution_count": 55,
   "metadata": {},
   "outputs": [
    {
     "data": {
      "text/plain": [
       "['************',\n",
       " '*Ihave a dog*',\n",
       " '*where     *',\n",
       " '*isyour cat*',\n",
       " '*monkey    *',\n",
       " '*likey     *',\n",
       " ['************']]"
      ]
     },
     "execution_count": 55,
     "metadata": {},
     "output_type": "execute_result"
    }
   ],
   "source": [
    "display_paragraphs(lines,directions,10)"
   ]
  },
  {
   "cell_type": "code",
   "execution_count": 56,
   "metadata": {},
   "outputs": [],
   "source": [
    "# Another test case\n",
    "lines2 = [[\"There\", \"are\", \"simpletasks\", \"to\", \"beDone\"],[\"I\",\"dont\", \"like\", \"cappibaras\"],[\"McLovin\"]]\n",
    "directions2= [\"RIGHT\", \"LEFT\", \"LEFT\"]\n",
    "width2 = 20"
   ]
  },
  {
   "cell_type": "code",
   "execution_count": 57,
   "metadata": {},
   "outputs": [
    {
     "data": {
      "text/plain": [
       "['***************',\n",
       " '*    There are*',\n",
       " '*  simpletasks*',\n",
       " '*    to beDone*',\n",
       " '*I dont like  *',\n",
       " '*cappibaras   *',\n",
       " '*McLovin      *',\n",
       " ['***************']]"
      ]
     },
     "execution_count": 57,
     "metadata": {},
     "output_type": "execute_result"
    }
   ],
   "source": [
    "display_paragraphs(lines2,directions2,13)"
   ]
  },
  {
   "cell_type": "markdown",
   "metadata": {},
   "source": [
    "### Conclusion:"
   ]
  },
  {
   "cell_type": "markdown",
   "metadata": {},
   "source": [
    "And it works. Wish I could do this during the challenge. Bye bye eBay!"
   ]
  }
 ],
 "metadata": {
  "kernelspec": {
   "display_name": "Python 3",
   "language": "python",
   "name": "python3"
  },
  "language_info": {
   "codemirror_mode": {
    "name": "ipython",
    "version": 3
   },
   "file_extension": ".py",
   "mimetype": "text/x-python",
   "name": "python",
   "nbconvert_exporter": "python",
   "pygments_lexer": "ipython3",
   "version": "3.6.5"
  }
 },
 "nbformat": 4,
 "nbformat_minor": 2
}
